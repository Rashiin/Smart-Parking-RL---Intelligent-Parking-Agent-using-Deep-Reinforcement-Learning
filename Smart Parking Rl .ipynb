{
 "cells": [
  {
   "cell_type": "markdown",
   "id": "66561a90",
   "metadata": {},
   "source": [
    "\n",
    "# 🅿️ Smart Parking using Reinforcement Learning\n",
    "\n",
    "This project implements a **Smart Parking System** using classic **Path Planning (BFS)** and **Deep Reinforcement Learning (DQN)** techniques.\n",
    "\n",
    "## 📌 Problem\n",
    "Design a system to guide an autonomous vehicle from the entrance of a parking lot to the most optimal parking spot, while avoiding randomly placed obstacles.\n",
    "\n",
    "---\n",
    "\n",
    "## 🧠 Approach\n",
    "- **Custom Environment** simulating a parking lot with free and occupied spaces\n",
    "- **Valid parking spots** predefined (goal positions)\n",
    "- **Obstacles** placed randomly each episode\n",
    "- **BFS** for deterministic pathfinding\n",
    "- **DQN** for training a deep agent to learn parking behavior\n",
    "\n",
    "---\n",
    "\n",
    "## 📐 Environment Overview\n",
    "- Grid-based 5x5 parking lot\n",
    "- Actions: `Up`, `Down`, `Left`, `Right`, `Park`\n",
    "- Rewards:\n",
    "  - ✅ +20 for parking in a valid spot\n",
    "  - ⚠️ +5 for parking in a non-goal free space\n",
    "  - ❌ -5 for trying to park in an occupied space\n",
    "  - 🚶‍♂️ -0.1 per step\n",
    "\n",
    "---\n",
    "\n",
    "## 🛠️ Technologies Used\n",
    "- `Python`, `NumPy`, `PyTorch`\n",
    "- `Pygame` for real-time visualization\n",
    "- `Matplotlib` for path plotting\n",
    "\n",
    "---\n",
    "\n",
    "## 🎮 Demo\n",
    "The agent starts from the top-left and finds its way to the nearest available **valid parking spot**, avoiding obstacles. You can run this multiple times to see different random layouts!\n",
    "\n",
    "---\n",
    "\n"
   ]
  },
  {
   "cell_type": "code",
   "execution_count": 13,
   "id": "f86b5f9f",
   "metadata": {},
   "outputs": [],
   "source": [
    "import pygame\n",
    "import torch\n",
    "import numpy as np"
   ]
  },
  {
   "cell_type": "code",
   "execution_count": 14,
   "id": "5c73b86d",
   "metadata": {},
   "outputs": [],
   "source": [
    "from collections import deque\n"
   ]
  },
  {
   "cell_type": "code",
   "execution_count": 15,
   "id": "df1bea7c",
   "metadata": {},
   "outputs": [],
   "source": [
    "class SmartParkingEnv:\n",
    "    def __init__(self, size=5):\n",
    "        self.size = size\n",
    "        self.num_actions = 5  # up, down, left, right, park\n",
    "        self.valid_parking_spots = [[4, 1], [3, 3], [2, 4]]\n",
    "        self.reset()\n",
    "\n",
    "    def reset(self):\n",
    "        self.agent_pos = [0, 0]\n",
    "        self.parking_slots = np.zeros((self.size, self.size), dtype=int)\n",
    "        self.parking_slots[0, 0] = 1\n",
    "\n",
    "        for x, y in self.valid_parking_spots:\n",
    "            self.parking_slots[x, y] = 0\n",
    "\n",
    "        count = 0\n",
    "        while count < 5:\n",
    "            x, y = np.random.randint(0, self.size, size=2)\n",
    "            if [x, y] != [0, 0] and [x, y] not in self.valid_parking_spots and self.parking_slots[x, y] == 0:\n",
    "                self.parking_slots[x, y] = 1\n",
    "                count += 1\n",
    "\n",
    "        self.steps = 0\n",
    "        return self._get_state()\n",
    "\n",
    "    def _get_state(self):\n",
    "        flat_slots = self.parking_slots.flatten()\n",
    "        state = self.agent_pos + flat_slots.tolist()\n",
    "        return np.array(state, dtype=np.float32)\n",
    "\n",
    "    def step(self, action):\n",
    "        reward = -0.1\n",
    "        done = False\n",
    "        x, y = self.agent_pos\n",
    "\n",
    "        if action == 0 and x > 0: x -= 1\n",
    "        elif action == 1 and x < self.size - 1: x += 1\n",
    "        elif action == 2 and y > 0: y -= 1\n",
    "        elif action == 3 and y < self.size - 1: y += 1\n",
    "        elif action == 4:\n",
    "            if self.parking_slots[x, y] == 0:\n",
    "                if [x, y] in self.valid_parking_spots:\n",
    "                    reward = 20\n",
    "                else:\n",
    "                    reward = 5\n",
    "                done = True\n",
    "            else:\n",
    "                reward = -5\n",
    "\n",
    "        self.agent_pos = [x, y]\n",
    "        self.steps += 1\n",
    "        if self.steps >= 30:\n",
    "            done = True\n",
    "\n",
    "        return self._get_state(), reward, done, {}"
   ]
  },
  {
   "cell_type": "code",
   "execution_count": 16,
   "id": "3624ccff",
   "metadata": {},
   "outputs": [],
   "source": [
    "import torch.nn as nn\n"
   ]
  },
  {
   "cell_type": "code",
   "execution_count": 17,
   "id": "2ae5e89b",
   "metadata": {},
   "outputs": [],
   "source": [
    "class QNetwork(nn.Module):\n",
    "    def __init__(self, input_dim, output_dim):\n",
    "        super(QNetwork, self).__init__()\n",
    "        self.fc1 = nn.Linear(input_dim, 64)\n",
    "        self.fc2 = nn.Linear(64, 64)\n",
    "        self.fc3 = nn.Linear(64, output_dim)\n",
    "\n",
    "    def forward(self, x):\n",
    "        x = F.relu(self.fc1(x))\n",
    "        x = F.relu(self.fc2(x))\n",
    "        return self.fc3(x)\n"
   ]
  },
  {
   "cell_type": "code",
   "execution_count": 18,
   "id": "272215bd",
   "metadata": {},
   "outputs": [],
   "source": [
    "\n",
    "def bfs_path(slots, start, goal):\n",
    "    queue = deque([(start, [start])])\n",
    "    visited = set()\n",
    "    while queue:\n",
    "        (x, y), path = queue.popleft()\n",
    "        if (x, y) == goal:\n",
    "            return path\n",
    "        for dx, dy in [(-1,0), (1,0), (0,-1), (0,1)]:\n",
    "            nx, ny = x + dx, y + dy\n",
    "            if 0 <= nx < slots.shape[0] and 0 <= ny < slots.shape[1]:\n",
    "                if slots[nx, ny] == 0 and (nx, ny) not in visited:\n",
    "                    visited.add((nx, ny))\n",
    "                    queue.append(((nx, ny), path + [(nx, ny)]))\n",
    "    return []\n",
    "\n",
    "def find_nearest_parking(start, slots, valid_spots):\n",
    "    best_path = []\n",
    "    shortest = None\n",
    "    for spot in valid_spots:\n",
    "        path = bfs_path(slots, tuple(start), tuple(spot))\n",
    "        if path and (shortest is None or len(path) < shortest):\n",
    "            best_path = path\n",
    "            shortest = len(path)\n",
    "    return best_path\n"
   ]
  },
  {
   "cell_type": "code",
   "execution_count": 19,
   "id": "0229285a",
   "metadata": {},
   "outputs": [],
   "source": [
    "def visualize_path(env, path):\n",
    "    pygame.init()\n",
    "    width, height = 500, 500\n",
    "    rows, cols = env.size, env.size\n",
    "    slot_size = width // cols\n",
    "    screen = pygame.display.set_mode((width, height))\n",
    "    pygame.display.set_caption(\"Smart Parking - BFS Path\")\n",
    "\n",
    "    COLORS = {\n",
    "        'car': (0, 0, 255),\n",
    "        'parked': (0, 200, 0),\n",
    "        'empty': (200, 255, 200),\n",
    "        'occupied': (255, 100, 100),\n",
    "        'grid': (220, 220, 220),\n",
    "        'valid': (255, 255, 0)\n",
    "    }\n",
    "\n",
    "    def draw_env(pos):\n",
    "        screen.fill(COLORS['grid'])\n",
    "        for i in range(rows):\n",
    "            for j in range(cols):\n",
    "                rect = pygame.Rect(j * slot_size, i * slot_size, slot_size - 2, slot_size - 2)\n",
    "                if env.parking_slots[i, j] == 1:\n",
    "                    pygame.draw.rect(screen, COLORS['occupied'], rect)\n",
    "                elif [i, j] in env.valid_parking_spots:\n",
    "                    pygame.draw.rect(screen, COLORS['valid'], rect)\n",
    "                else:\n",
    "                    pygame.draw.rect(screen, COLORS['empty'], rect)\n",
    "\n",
    "        if pos == path[-1]:\n",
    "            pygame.draw.rect(screen, COLORS['parked'], pygame.Rect(pos[1] * slot_size, pos[0] * slot_size, slot_size - 2, slot_size - 2))\n",
    "        else:\n",
    "            pygame.draw.rect(screen, COLORS['car'], pygame.Rect(pos[1] * slot_size, pos[0] * slot_size, slot_size - 2, slot_size - 2))\n",
    "\n",
    "        pygame.display.flip()\n",
    "\n",
    "    for pos in path:\n",
    "        draw_env(pos)\n",
    "        pygame.time.wait(400)\n",
    "\n",
    "    pygame.time.wait(800)\n",
    "    pygame.quit()"
   ]
  },
  {
   "cell_type": "code",
   "execution_count": 20,
   "id": "2ffe5e0b",
   "metadata": {},
   "outputs": [],
   "source": [
    "import time\n"
   ]
  },
  {
   "cell_type": "code",
   "execution_count": 22,
   "id": "7037ba74",
   "metadata": {},
   "outputs": [
    {
     "data": {
      "image/png": "[encoded data removed]",
      "text/plain": [
       "<Figure size 432x288 with 1 Axes>"
      ]
     },
     "metadata": {
      "needs_background": "light"
     },
     "output_type": "display_data"
    }
   ],
   "source": [
    "env = SmartParkingEnv()\n",
    "state = env.reset()\n",
    "start = env.agent_pos\n",
    "path = find_nearest_parking(start, env.parking_slots, env.valid_parking_spots)\n",
    "\n",
    "visualize_path(env, path)\n",
    "\n",
    "obstacles = [(i, j) for i in range(env.size) for j in range(env.size) if env.parking_slots[i, j] == 1]\n",
    "parking_spots = env.valid_parking_spots\n",
    "\n",
    "plot_path_on_grid(env.size, path, obstacles, parking_spots)\n",
    "\n"
   ]
  },
  {
   "cell_type": "code",
   "execution_count": 23,
   "id": "344cb11d",
   "metadata": {},
   "outputs": [],
   "source": [
    "import matplotlib.pyplot as plt\n",
    "\n",
    "def plot_path_on_grid(grid_size, path, obstacles, parking_spots):\n",
    "    grid = [['' for _ in range(grid_size)] for _ in range(grid_size)]\n",
    "    \n",
    "    for x, y in obstacles:\n",
    "        grid[x][y] = 'X'\n",
    "    for x, y in parking_spots:\n",
    "        grid[x][y] = 'P'\n",
    "    for i, (x, y) in enumerate(path):\n",
    "        if i == 0:\n",
    "            grid[x][y] = 'S'\n",
    "        elif i == len(path) - 1:\n",
    "            grid[x][y] = 'G'\n",
    "        else:\n",
    "            grid[x][y] = '*'\n",
    "\n",
    "    fig, ax = plt.subplots()\n",
    "    ax.set_xlim(0, grid_size)\n",
    "    ax.set_ylim(0, grid_size)\n",
    "    ax.set_xticks(range(grid_size+1))\n",
    "    ax.set_yticks(range(grid_size+1))\n",
    "    ax.grid(True)\n",
    "\n",
    "    for i in range(grid_size):\n",
    "        for j in range(grid_size):\n",
    "            cell = grid[i][j]\n",
    "            if cell == 'X':\n",
    "                ax.add_patch(plt.Rectangle((j, grid_size-1-i), 1, 1, color='red'))\n",
    "            elif cell == 'P':\n",
    "                ax.add_patch(plt.Rectangle((j, grid_size-1-i), 1, 1, color='yellow'))\n",
    "            elif cell == 'S':\n",
    "                ax.add_patch(plt.Rectangle((j, grid_size-1-i), 1, 1, color='blue'))\n",
    "            elif cell == 'G':\n",
    "                ax.add_patch(plt.Rectangle((j, grid_size-1-i), 1, 1, color='green'))\n",
    "            elif cell == '*':\n",
    "                ax.add_patch(plt.Rectangle((j, grid_size-1-i), 1, 1, color='lightblue'))\n",
    "\n",
    "    plt.title(\"BFS Path to Nearest Parking Spot\")\n",
    "    plt.gca().set_aspect('equal', adjustable='box')\n",
    "    plt.show()\n"
   ]
  },
  {
   "cell_type": "code",
   "execution_count": 1,
   "id": "44c1a041",
   "metadata": {},
   "outputs": [
    {
     "data": {
      "image/png": "[encoded data removed]",
      "text/plain": [
       "<Figure size 720x288 with 2 Axes>"
      ]
     },
     "metadata": {
      "needs_background": "light"
     },
     "output_type": "display_data"
    }
   ],
   "source": [
    "import matplotlib.pyplot as plt\n",
    "import numpy as np\n",
    "\n",
    "methods = ['DQN', 'BFS']\n",
    "steps = [12, 15]  \n",
    "exec_time = [0.8, 0.3] \n",
    "fig, (ax1, ax2) = plt.subplots(1, 2, figsize=(10, 4))\n",
    "\n",
    "ax1.bar(methods, steps, color=['blue', 'orange'])\n",
    "ax1.set_title('Number of Steps to Park')\n",
    "ax1.set_ylabel('Steps')\n",
    "\n",
    "ax2.bar(methods, exec_time, color=['green', 'red'])\n",
    "ax2.set_title('Execution Time (seconds)')\n",
    "ax2.set_ylabel('Time (sec)')\n",
    "\n",
    "plt.tight_layout()\n",
    "plt.show()\n"
   ]
  },
  {
   "cell_type": "markdown",
   "id": "4045d5cd",
   "metadata": {},
   "source": [
    "## 👤 Developed by\n",
    "**راشین قلیجانی فراهانی**  \n",
    "_ML Enthusiast | AI Engineer | RL Explorer_\n",
    "\n",
    "---\n"
   ]
  },
  {
   "cell_type": "code",
   "execution_count": null,
   "id": "f0be20fe",
   "metadata": {},
   "outputs": [],
   "source": []
  },
  {
   "cell_type": "code",
   "execution_count": null,
   "id": "c32bd1a2",
   "metadata": {},
   "outputs": [],
   "source": []
  },
  {
   "cell_type": "code",
   "execution_count": null,
   "id": "30a876b2",
   "metadata": {},
   "outputs": [],
   "source": []
  },
  {
   "cell_type": "code",
   "execution_count": null,
   "id": "8f91447f",
   "metadata": {},
   "outputs": [],
   "source": []
  },
  {
   "cell_type": "code",
   "execution_count": null,
   "id": "bf364f47",
   "metadata": {},
   "outputs": [],
   "source": []
  }
 ],
 "metadata": {
  "kernelspec": {
   "display_name": "Python 3 (ipykernel)",
   "language": "python",
   "name": "python3"
  },
  "language_info": {
   "codemirror_mode": {
    "name": "ipython",
    "version": 3
   },
   "file_extension": ".py",
   "mimetype": "text/x-python",
   "name": "python",
   "nbconvert_exporter": "python",
   "pygments_lexer": "ipython3",
   "version": "3.9.12"
  }
 },
 "nbformat": 4,
 "nbformat_minor": 5
}
